{
 "cells": [
  {
   "cell_type": "markdown",
   "id": "eac4cb42",
   "metadata": {},
   "source": [
    "<img src=\"AUEB.png\" /> <img src=\"MSc_BA.png\" />"
   ]
  },
  {
   "cell_type": "markdown",
   "id": "cbda0a08",
   "metadata": {},
   "source": [
    "# Athens University of Economics and Business\n",
    "# School of Business\n",
    "# Department of Management Science & Technology\n",
    "# Master of Science in Business Analytics\n",
    "___"
   ]
  },
  {
   "cell_type": "markdown",
   "id": "c14c74b6",
   "metadata": {},
   "source": [
    "<table style='float:left;font-size: 20px;'>\n",
    "    <tr>\n",
    "        <th style='text-align: left;'>Program:</th>\n",
    "        <td style='text-align: left;'>Full-Time</td>\n",
    "    </tr>\n",
    "    <tr>\n",
    "        <th style='text-align: left;'>Quarter:</th>\n",
    "        <td style='text-align: left;'>2nd (Winter Quarter)</td>\n",
    "    </tr>\n",
    "    <tr>\n",
    "        <th style='text-align: left;'>Course:</th>\n",
    "        <td style='text-align: left;'>Big Data Systems & Architectures</td>\n",
    "    </tr>\n",
    "    <tr>\n",
    "        <th style='text-align: left;'>Assignment:</th>\n",
    "        <td style='text-align: left;'>Spark Assignment</td>\n",
    "    </tr> \n",
    "    <tr>\n",
    "        <th style='text-align: left;'>Student (Registration No):</th>\n",
    "        <td style='text-align: left;'>Souflas Eleftherios-Efthymios (f2822217)</td>\n",
    "    </tr>\n",
    "</table>"
   ]
  },
  {
   "cell_type": "markdown",
   "id": "def54897",
   "metadata": {},
   "source": [
    "___\n",
    "# Task 1"
   ]
  },
  {
   "cell_type": "markdown",
   "id": "81ff3115",
   "metadata": {},
   "source": [
    "In order to explore the dataset, we must firstly be able to read it. \n",
    "\n",
    "PySpark is the Python API for Apache Spark. In order to install it, uncomment the following first line of the code, or if it does not work, uncomment the third and fourth line of the code.\n",
    "\n",
    "From the `pyspark.sql` module, we imported `SparkSession`, which is the entry point to programming Spark with the Dataset and DataFrame API. We then use the Builder to construct a SparkSession instance, having as a name \"task1\".\n",
    "\n",
    "Spark SQL can load a JSON file as a DataFrame using `SparkSession.read.json()` function. We then set multiline option to true to read JSON records from multiple lines of the JSON file provided into a Spark DataFrame named \"movies\". We then used `cache()` method that Spark provides, which is an optimization mechanism to store the intermediate computation of a Spark DataFrame to memory as a deserialized object (or if required storage is greater than available memory, it stores some of the excess partitions into a disk and reads the data from the disk when required), so it can be reused in subsequent actions.\n",
    "\n",
    "We then used the `toPandas()` function, which as the name suggests, returns the contents of this DataFrame as Pandas `pandas.DataFrame`, in order to view it in a more pretty way than it is printed with the `show()` function."
   ]
  },
  {
   "cell_type": "code",
   "execution_count": 1,
   "id": "f9e1288e",
   "metadata": {},
   "outputs": [
    {
     "data": {
      "text/html": [
       "<div>\n",
       "<style scoped>\n",
       "    .dataframe tbody tr th:only-of-type {\n",
       "        vertical-align: middle;\n",
       "    }\n",
       "\n",
       "    .dataframe tbody tr th {\n",
       "        vertical-align: top;\n",
       "    }\n",
       "\n",
       "    .dataframe thead th {\n",
       "        text-align: right;\n",
       "    }\n",
       "</style>\n",
       "<table border=\"1\" class=\"dataframe\">\n",
       "  <thead>\n",
       "    <tr style=\"text-align: right;\">\n",
       "      <th></th>\n",
       "      <th>actors</th>\n",
       "      <th>countries</th>\n",
       "      <th>description</th>\n",
       "      <th>directors</th>\n",
       "      <th>genre</th>\n",
       "      <th>imdb_url</th>\n",
       "      <th>img_url</th>\n",
       "      <th>languages</th>\n",
       "      <th>metascore</th>\n",
       "      <th>rating</th>\n",
       "      <th>runtime</th>\n",
       "      <th>tagline</th>\n",
       "      <th>title</th>\n",
       "      <th>users_rating</th>\n",
       "      <th>votes</th>\n",
       "      <th>year</th>\n",
       "    </tr>\n",
       "  </thead>\n",
       "  <tbody>\n",
       "    <tr>\n",
       "      <th>0</th>\n",
       "      <td>[Timothée Chalamet, Elle Fanning, Liev Schreib...</td>\n",
       "      <td>[USA]</td>\n",
       "      <td>A young couple arrives in New York for a weeke...</td>\n",
       "      <td>[Woody Allen]</td>\n",
       "      <td>[Comedy, Romance]</td>\n",
       "      <td>https://www.imdb.com/title/tt7139936/</td>\n",
       "      <td>https://m.media-amazon.com/images/M/MV5BODAwZD...</td>\n",
       "      <td>[English]</td>\n",
       "      <td>44</td>\n",
       "      <td>PG-13</td>\n",
       "      <td>92 min</td>\n",
       "      <td>None</td>\n",
       "      <td>A Rainy Day in New York</td>\n",
       "      <td>6.6</td>\n",
       "      <td>21,903</td>\n",
       "      <td>2019</td>\n",
       "    </tr>\n",
       "    <tr>\n",
       "      <th>1</th>\n",
       "      <td>[Emilia Clarke, Hadley Fraser, Sylvia Panacion...</td>\n",
       "      <td>[USA]</td>\n",
       "      <td>Creepy, terrifying chapters from our book of h...</td>\n",
       "      <td>[Michael Escobedo, Kelly Hallmark, 4 more cred...</td>\n",
       "      <td>[Horror, Thriller]</td>\n",
       "      <td>https://www.imdb.com/title/tt12384178/</td>\n",
       "      <td>https://m.media-amazon.com/images/M/MV5BMDI5ZD...</td>\n",
       "      <td>[English]</td>\n",
       "      <td>None</td>\n",
       "      <td>18</td>\n",
       "      <td>91 min</td>\n",
       "      <td>When it comes to murder, they wrote the book</td>\n",
       "      <td>Murder Manual</td>\n",
       "      <td>2.4</td>\n",
       "      <td>192</td>\n",
       "      <td>2020</td>\n",
       "    </tr>\n",
       "    <tr>\n",
       "      <th>2</th>\n",
       "      <td>[Matthew Broderick, Alan Ruck, Mia Sara, Jeffr...</td>\n",
       "      <td>[USA]</td>\n",
       "      <td>A high school wise guy is determined to have a...</td>\n",
       "      <td>[John Hughes]</td>\n",
       "      <td>[Comedy]</td>\n",
       "      <td>https://www.imdb.com/title/tt0091042/</td>\n",
       "      <td>https://m.media-amazon.com/images/M/MV5BMDA0Nj...</td>\n",
       "      <td>[English, German]</td>\n",
       "      <td>61</td>\n",
       "      <td>PG-13</td>\n",
       "      <td>103 min</td>\n",
       "      <td>Because life is too beautiful a thing to waste.</td>\n",
       "      <td>Ferris Bueller's Day Off</td>\n",
       "      <td>7.8</td>\n",
       "      <td>308,847</td>\n",
       "      <td>1986</td>\n",
       "    </tr>\n",
       "    <tr>\n",
       "      <th>3</th>\n",
       "      <td>[Robert De Niro, Nick Nolte, Jessica Lange, Ju...</td>\n",
       "      <td>[USA]</td>\n",
       "      <td>A convicted rapist, released from prison after...</td>\n",
       "      <td>[Martin Scorsese]</td>\n",
       "      <td>[Crime, Thriller]</td>\n",
       "      <td>https://www.imdb.com/title/tt0101540/</td>\n",
       "      <td>https://m.media-amazon.com/images/M/MV5BNjdhNz...</td>\n",
       "      <td>[English]</td>\n",
       "      <td>73</td>\n",
       "      <td>R</td>\n",
       "      <td>128 min</td>\n",
       "      <td>There is nothing in the dark that isn't there ...</td>\n",
       "      <td>Cape Fear</td>\n",
       "      <td>7.3</td>\n",
       "      <td>165,628</td>\n",
       "      <td>1991</td>\n",
       "    </tr>\n",
       "    <tr>\n",
       "      <th>4</th>\n",
       "      <td>[Lindsay Lohan, Rachel McAdams, Tina Fey, Tim ...</td>\n",
       "      <td>[USA, Canada]</td>\n",
       "      <td>Cady Heron is a hit with The Plastics, the A-l...</td>\n",
       "      <td>[Mark Waters]</td>\n",
       "      <td>[Comedy]</td>\n",
       "      <td>https://www.imdb.com/title/tt0377092/</td>\n",
       "      <td>https://m.media-amazon.com/images/M/MV5BMjE1MD...</td>\n",
       "      <td>[English, German, Vietnamese, Swahili]</td>\n",
       "      <td>66</td>\n",
       "      <td>PG-13</td>\n",
       "      <td>97 min</td>\n",
       "      <td>Survival of the Ruthless</td>\n",
       "      <td>Mean Girls</td>\n",
       "      <td>7.0</td>\n",
       "      <td>320,492</td>\n",
       "      <td>2004</td>\n",
       "    </tr>\n",
       "  </tbody>\n",
       "</table>\n",
       "</div>"
      ],
      "text/plain": [
       "                                              actors      countries  \\\n",
       "0  [Timothée Chalamet, Elle Fanning, Liev Schreib...          [USA]   \n",
       "1  [Emilia Clarke, Hadley Fraser, Sylvia Panacion...          [USA]   \n",
       "2  [Matthew Broderick, Alan Ruck, Mia Sara, Jeffr...          [USA]   \n",
       "3  [Robert De Niro, Nick Nolte, Jessica Lange, Ju...          [USA]   \n",
       "4  [Lindsay Lohan, Rachel McAdams, Tina Fey, Tim ...  [USA, Canada]   \n",
       "\n",
       "                                         description  \\\n",
       "0  A young couple arrives in New York for a weeke...   \n",
       "1  Creepy, terrifying chapters from our book of h...   \n",
       "2  A high school wise guy is determined to have a...   \n",
       "3  A convicted rapist, released from prison after...   \n",
       "4  Cady Heron is a hit with The Plastics, the A-l...   \n",
       "\n",
       "                                           directors               genre  \\\n",
       "0                                      [Woody Allen]   [Comedy, Romance]   \n",
       "1  [Michael Escobedo, Kelly Hallmark, 4 more cred...  [Horror, Thriller]   \n",
       "2                                      [John Hughes]            [Comedy]   \n",
       "3                                  [Martin Scorsese]   [Crime, Thriller]   \n",
       "4                                      [Mark Waters]            [Comedy]   \n",
       "\n",
       "                                 imdb_url  \\\n",
       "0   https://www.imdb.com/title/tt7139936/   \n",
       "1  https://www.imdb.com/title/tt12384178/   \n",
       "2   https://www.imdb.com/title/tt0091042/   \n",
       "3   https://www.imdb.com/title/tt0101540/   \n",
       "4   https://www.imdb.com/title/tt0377092/   \n",
       "\n",
       "                                             img_url  \\\n",
       "0  https://m.media-amazon.com/images/M/MV5BODAwZD...   \n",
       "1  https://m.media-amazon.com/images/M/MV5BMDI5ZD...   \n",
       "2  https://m.media-amazon.com/images/M/MV5BMDA0Nj...   \n",
       "3  https://m.media-amazon.com/images/M/MV5BNjdhNz...   \n",
       "4  https://m.media-amazon.com/images/M/MV5BMjE1MD...   \n",
       "\n",
       "                                languages metascore rating  runtime  \\\n",
       "0                               [English]        44  PG-13   92 min   \n",
       "1                               [English]      None     18   91 min   \n",
       "2                       [English, German]        61  PG-13  103 min   \n",
       "3                               [English]        73      R  128 min   \n",
       "4  [English, German, Vietnamese, Swahili]        66  PG-13   97 min   \n",
       "\n",
       "                                             tagline  \\\n",
       "0                                               None   \n",
       "1       When it comes to murder, they wrote the book   \n",
       "2    Because life is too beautiful a thing to waste.   \n",
       "3  There is nothing in the dark that isn't there ...   \n",
       "4                           Survival of the Ruthless   \n",
       "\n",
       "                      title users_rating    votes  year  \n",
       "0   A Rainy Day in New York          6.6   21,903  2019  \n",
       "1             Murder Manual          2.4      192  2020  \n",
       "2  Ferris Bueller's Day Off          7.8  308,847  1986  \n",
       "3                 Cape Fear          7.3  165,628  1991  \n",
       "4                Mean Girls          7.0  320,492  2004  "
      ]
     },
     "execution_count": 1,
     "metadata": {},
     "output_type": "execute_result"
    }
   ],
   "source": [
    "# pip install pyspark\n",
    "# or else\n",
    "# import sys\n",
    "# !{sys.executable} -m pip install pyspark\n",
    "\n",
    "from pyspark.sql import SparkSession\n",
    "\n",
    "spark = SparkSession.builder.appName(\"task1\").getOrCreate()\n",
    "\n",
    "file = \"movie.json\" \n",
    "movies = spark.read.option(\"multiline\",\"true\").json(file).cache()\n",
    "movies.toPandas().head()"
   ]
  },
  {
   "cell_type": "markdown",
   "id": "ebc0fca8",
   "metadata": {},
   "source": [
    "We then counted and displayed the number of movies in the database, by returning the number of rows in the \"movies\" DataFrame, because each row contains a movie."
   ]
  },
  {
   "cell_type": "code",
   "execution_count": 2,
   "id": "090127f1",
   "metadata": {},
   "outputs": [
    {
     "data": {
      "text/plain": [
       "62058"
      ]
     },
     "execution_count": 2,
     "metadata": {},
     "output_type": "execute_result"
    }
   ],
   "source": [
    "movies.count()"
   ]
  },
  {
   "cell_type": "markdown",
   "id": "f291ed33",
   "metadata": {},
   "source": [
    "We then counted and displayed the number of comedies in the database, by using the `filter()` function, to filter rows using the given condition i.e., `array_contains()` function, which returns true if the array of the \"Genre\" column contains the given value (\"Comedy\"). Then, we counted the rows that satisfied the condition."
   ]
  },
  {
   "cell_type": "code",
   "execution_count": 3,
   "id": "eb36345d",
   "metadata": {},
   "outputs": [
    {
     "data": {
      "text/plain": [
       "19312"
      ]
     },
     "execution_count": 3,
     "metadata": {},
     "output_type": "execute_result"
    }
   ],
   "source": [
    "from pyspark.sql.functions import array_contains\n",
    "\n",
    "movies.filter(array_contains(movies.genre, \"Comedy\")).count()"
   ]
  },
  {
   "cell_type": "markdown",
   "id": "7218294c",
   "metadata": {},
   "source": [
    "we then used the `summary()` command to display basic statistics about the “users_rating” field. Firstly, we printed out the schema in a tree format, using the `printSchema()` function and observed that the \"users_rating\" column was a string column. Because, lexicographically \"10\" is smaller than \"2\" and thus the `summary()` command would not work as we would have expected, giving for example as maximum number the 10, we casted the column into a float data type, using the `cast()` function. We used again the `printSchema()` function to observe that everything worked well and then we computed specified statistics for the forementioned numeric column."
   ]
  },
  {
   "cell_type": "code",
   "execution_count": 4,
   "id": "0b1b9fd9",
   "metadata": {},
   "outputs": [
    {
     "name": "stdout",
     "output_type": "stream",
     "text": [
      "DataFrame Schema:\n",
      "\n",
      "root\n",
      " |-- actors: array (nullable = true)\n",
      " |    |-- element: string (containsNull = true)\n",
      " |-- countries: array (nullable = true)\n",
      " |    |-- element: string (containsNull = true)\n",
      " |-- description: string (nullable = true)\n",
      " |-- directors: array (nullable = true)\n",
      " |    |-- element: string (containsNull = true)\n",
      " |-- genre: array (nullable = true)\n",
      " |    |-- element: string (containsNull = true)\n",
      " |-- imdb_url: string (nullable = true)\n",
      " |-- img_url: string (nullable = true)\n",
      " |-- languages: array (nullable = true)\n",
      " |    |-- element: string (containsNull = true)\n",
      " |-- metascore: string (nullable = true)\n",
      " |-- rating: string (nullable = true)\n",
      " |-- runtime: string (nullable = true)\n",
      " |-- tagline: string (nullable = true)\n",
      " |-- title: string (nullable = true)\n",
      " |-- users_rating: string (nullable = true)\n",
      " |-- votes: string (nullable = true)\n",
      " |-- year: string (nullable = true)\n",
      "\n",
      "Schema after casting users_rating column into float data type:\n",
      "\n",
      "root\n",
      " |-- actors: array (nullable = true)\n",
      " |    |-- element: string (containsNull = true)\n",
      " |-- countries: array (nullable = true)\n",
      " |    |-- element: string (containsNull = true)\n",
      " |-- description: string (nullable = true)\n",
      " |-- directors: array (nullable = true)\n",
      " |    |-- element: string (containsNull = true)\n",
      " |-- genre: array (nullable = true)\n",
      " |    |-- element: string (containsNull = true)\n",
      " |-- imdb_url: string (nullable = true)\n",
      " |-- img_url: string (nullable = true)\n",
      " |-- languages: array (nullable = true)\n",
      " |    |-- element: string (containsNull = true)\n",
      " |-- metascore: string (nullable = true)\n",
      " |-- rating: string (nullable = true)\n",
      " |-- runtime: string (nullable = true)\n",
      " |-- tagline: string (nullable = true)\n",
      " |-- title: string (nullable = true)\n",
      " |-- users_rating: float (nullable = true)\n",
      " |-- votes: string (nullable = true)\n",
      " |-- year: string (nullable = true)\n",
      "\n",
      "+-------+------------------+\n",
      "|summary|      users_rating|\n",
      "+-------+------------------+\n",
      "|  count|             62056|\n",
      "|   mean| 5.814105001686313|\n",
      "| stddev|1.3521864143401068|\n",
      "|    min|               1.0|\n",
      "|    25%|               5.0|\n",
      "|    50%|               6.0|\n",
      "|    75%|               6.7|\n",
      "|    max|              10.0|\n",
      "+-------+------------------+\n",
      "\n"
     ]
    }
   ],
   "source": [
    "from pyspark.sql.functions import col\n",
    "\n",
    "print(\"DataFrame Schema:\\n\")\n",
    "movies.printSchema()\n",
    "movies = movies.withColumn(\"users_rating\", col(\"users_rating\").cast('float'))\n",
    "print(\"Schema after casting users_rating column into float data type:\\n\")\n",
    "movies.printSchema()\n",
    "movies.select(\"users_rating\").summary().show()"
   ]
  },
  {
   "cell_type": "markdown",
   "id": "16406832",
   "metadata": {},
   "source": [
    "We then displayed all distinct values in the \"rating\" field and their number of appearances. Firstly, we used `groupBy()` function, to group the \"movies\" DataFrame using the \"rating\" column, so that we could then run aggregations on it and used the `count()` function to count the number of records for each group. The result of it was saved in a separate DataFrame, which was then sorted by the \"rating\" column for a prettier report, using the `orderBy()` function and the `asc()` function, that returns the forementioned sort expression based on the ascending order of the \"rating\" column. Finally, we printed all rows to the console."
   ]
  },
  {
   "cell_type": "code",
   "execution_count": 5,
   "id": "e5a0734d",
   "metadata": {},
   "outputs": [
    {
     "name": "stdout",
     "output_type": "stream",
     "text": [
      "+---------+-----+\n",
      "|   rating|count|\n",
      "+---------+-----+\n",
      "|     null|20667|\n",
      "| (Banned)|    1|\n",
      "|       18|    1|\n",
      "|        A|    6|\n",
      "|       AO|    2|\n",
      "|      All|    1|\n",
      "| Approved| 6419|\n",
      "|        C|    3|\n",
      "|        E|    2|\n",
      "|        G|  801|\n",
      "|       GP|  105|\n",
      "|        M|   41|\n",
      "|     M/PG|   27|\n",
      "|    NC-17|   22|\n",
      "|Not Rated| 8080|\n",
      "|     Open|    4|\n",
      "|       PG| 3286|\n",
      "|    PG-13| 3771|\n",
      "|   Passed| 4488|\n",
      "|        R|11368|\n",
      "|    TV-13|    1|\n",
      "|    TV-14|  452|\n",
      "|     TV-G|  115|\n",
      "|    TV-MA|  639|\n",
      "|    TV-PG|  268|\n",
      "|     TV-Y|   16|\n",
      "|    TV-Y7|   14|\n",
      "|        U|    4|\n",
      "|       UA|    7|\n",
      "|  Unrated| 1295|\n",
      "|        X|  152|\n",
      "+---------+-----+\n",
      "\n"
     ]
    }
   ],
   "source": [
    "from pyspark.sql.functions import asc\n",
    "\n",
    "df = movies.groupBy(\"rating\").count()\n",
    "df.orderBy(df.rating.asc()).show(df.count())"
   ]
  },
  {
   "cell_type": "markdown",
   "id": "eaf5f33f",
   "metadata": {},
   "source": [
    "Finally, we stopped the underlying Spark Session."
   ]
  },
  {
   "cell_type": "code",
   "execution_count": 6,
   "id": "425b4945",
   "metadata": {},
   "outputs": [],
   "source": [
    "spark.stop()"
   ]
  }
 ],
 "metadata": {
  "kernelspec": {
   "display_name": "Python 3 (ipykernel)",
   "language": "python",
   "name": "python3"
  },
  "language_info": {
   "codemirror_mode": {
    "name": "ipython",
    "version": 3
   },
   "file_extension": ".py",
   "mimetype": "text/x-python",
   "name": "python",
   "nbconvert_exporter": "python",
   "pygments_lexer": "ipython3",
   "version": "3.9.13"
  }
 },
 "nbformat": 4,
 "nbformat_minor": 5
}
