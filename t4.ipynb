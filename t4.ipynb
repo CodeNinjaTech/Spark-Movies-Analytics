{
 "cells": [
  {
   "cell_type": "markdown",
   "id": "eac4cb42",
   "metadata": {},
   "source": [
    "<img src=\"AUEB.png\" /> <img src=\"MSc_BA.png\" />"
   ]
  },
  {
   "cell_type": "markdown",
   "id": "cbda0a08",
   "metadata": {},
   "source": [
    "# Athens University of Economics and Business\n",
    "# School of Business\n",
    "# Department of Management Science & Technology\n",
    "# Master of Science in Business Analytics\n",
    "___"
   ]
  },
  {
   "cell_type": "markdown",
   "id": "c14c74b6",
   "metadata": {},
   "source": [
    "<table style='float:left;font-size: 20px;'>\n",
    "    <tr>\n",
    "        <th style='text-align: left;'>Program:</th>\n",
    "        <td style='text-align: left;'>Full-Time</td>\n",
    "    </tr>\n",
    "    <tr>\n",
    "        <th style='text-align: left;'>Quarter:</th>\n",
    "        <td style='text-align: left;'>2nd (Winter Quarter)</td>\n",
    "    </tr>\n",
    "    <tr>\n",
    "        <th style='text-align: left;'>Course:</th>\n",
    "        <td style='text-align: left;'>Big Data Systems & Architectures</td>\n",
    "    </tr>\n",
    "    <tr>\n",
    "        <th style='text-align: left;'>Assignment:</th>\n",
    "        <td style='text-align: left;'>Spark Assignment</td>\n",
    "    </tr> \n",
    "    <tr>\n",
    "        <th style='text-align: left;'>Student (Registration No):</th>\n",
    "        <td style='text-align: left;'>Souflas Eleftherios-Efthymios (f2822217)</td>\n",
    "    </tr>\n",
    "</table>"
   ]
  },
  {
   "cell_type": "markdown",
   "id": "def54897",
   "metadata": {},
   "source": [
    "___\n",
    "# Task 4"
   ]
  },
  {
   "cell_type": "markdown",
   "id": "09dd792d",
   "metadata": {},
   "source": [
    "__Import libaries & modules__ required for the code."
   ]
  },
  {
   "cell_type": "code",
   "execution_count": 1,
   "id": "c1aeb508",
   "metadata": {
    "scrolled": true
   },
   "outputs": [],
   "source": [
    "from airflow import DAG\n",
    "# Deprecated:\n",
    "# from airflow.operators.bash_operator import BashOperator\n",
    "from airflow.operators.bash import BashOperator\n",
    "import datetime as dt"
   ]
  },
  {
   "cell_type": "markdown",
   "id": "d18f5c8e",
   "metadata": {},
   "source": [
    "__Specify the default arguments__ (configurations) for the DAG (e.g.,how many retries for a failed task)."
   ]
  },
  {
   "cell_type": "code",
   "execution_count": 2,
   "id": "0299116e",
   "metadata": {},
   "outputs": [],
   "source": [
    "default_args = {\n",
    "    'owner': 'me',\n",
    "    'start_date': dt.datetime(2023, 4, 15),\n",
    "    'retries': 1,\n",
    "    'retry_delay': dt.timedelta(minutes=5)\n",
    "}"
   ]
  },
  {
   "cell_type": "markdown",
   "id": "023a6d88",
   "metadata": {},
   "source": [
    "__Instantiate the DAG__ based on the arguments provided."
   ]
  },
  {
   "cell_type": "code",
   "execution_count": 3,
   "id": "c966141b",
   "metadata": {},
   "outputs": [],
   "source": [
    "dag = DAG('simple_example',\n",
    "         description='A toy BashOperator workflow',\n",
    "         default_args=default_args,\n",
    ")"
   ]
  },
  {
   "cell_type": "markdown",
   "id": "5ab43ac2",
   "metadata": {},
   "source": [
    "__Task 1__ to display in the standard output my first name i.e., Lefteris."
   ]
  },
  {
   "cell_type": "code",
   "execution_count": 4,
   "id": "223ca84d",
   "metadata": {},
   "outputs": [],
   "source": [
    "task1 = BashOperator(\n",
    "task_id='print_first_name',\n",
    "bash_command='echo \\'Lefteris\\'',\n",
    "dag=dag,)"
   ]
  },
  {
   "cell_type": "markdown",
   "id": "7e61f4e6",
   "metadata": {},
   "source": [
    "__Task 2__ to calculate the number of characters in my last name i.e., Souflas, and print it on the screen."
   ]
  },
  {
   "cell_type": "code",
   "execution_count": 5,
   "id": "e815e70a",
   "metadata": {},
   "outputs": [],
   "source": [
    "task2 = BashOperator(\n",
    "task_id='print_last_name_characters_number',\n",
    "bash_command='echo -n \\'Souflas\\' | wc -c',\n",
    "dag=dag,)"
   ]
  },
  {
   "cell_type": "markdown",
   "id": "54935c69",
   "metadata": {},
   "source": [
    "__Specify the dependencies between the tasks__. Task 2 relies on the result of Task 1."
   ]
  },
  {
   "cell_type": "code",
   "execution_count": 6,
   "id": "d8c4fbf0",
   "metadata": {},
   "outputs": [],
   "source": [
    "task1 >> task2"
   ]
  }
 ],
 "metadata": {
  "kernelspec": {
   "display_name": "Python 3 (ipykernel)",
   "language": "python",
   "name": "python3"
  },
  "language_info": {
   "codemirror_mode": {
    "name": "ipython",
    "version": 3
   },
   "file_extension": ".py",
   "mimetype": "text/x-python",
   "name": "python",
   "nbconvert_exporter": "python",
   "pygments_lexer": "ipython3",
   "version": "3.9.13"
  }
 },
 "nbformat": 4,
 "nbformat_minor": 5
}
