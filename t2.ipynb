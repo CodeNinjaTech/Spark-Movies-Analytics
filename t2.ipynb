{
 "cells": [
  {
   "cell_type": "markdown",
   "id": "eac4cb42",
   "metadata": {},
   "source": [
    "<img src=\"AUEB.png\" /> <img src=\"MSc_BA.png\" />"
   ]
  },
  {
   "cell_type": "markdown",
   "id": "cbda0a08",
   "metadata": {},
   "source": [
    "# Athens University of Economics and Business\n",
    "# School of Business\n",
    "# Department of Management Science & Technology\n",
    "# Master of Science in Business Analytics\n",
    "___"
   ]
  },
  {
   "cell_type": "markdown",
   "id": "c14c74b6",
   "metadata": {},
   "source": [
    "<table style='float:left;font-size: 20px;'>\n",
    "    <tr>\n",
    "        <th style='text-align: left;'>Program:</th>\n",
    "        <td style='text-align: left;'>Full-Time</td>\n",
    "    </tr>\n",
    "    <tr>\n",
    "        <th style='text-align: left;'>Quarter:</th>\n",
    "        <td style='text-align: left;'>2nd (Winter Quarter)</td>\n",
    "    </tr>\n",
    "    <tr>\n",
    "        <th style='text-align: left;'>Course:</th>\n",
    "        <td style='text-align: left;'>Big Data Systems & Architectures</td>\n",
    "    </tr>\n",
    "    <tr>\n",
    "        <th style='text-align: left;'>Assignment:</th>\n",
    "        <td style='text-align: left;'>Spark Assignment</td>\n",
    "    </tr> \n",
    "    <tr>\n",
    "        <th style='text-align: left;'>Student (Registration No):</th>\n",
    "        <td style='text-align: left;'>Souflas Eleftherios-Efthymios (f2822217)</td>\n",
    "    </tr>\n",
    "</table>"
   ]
  },
  {
   "cell_type": "markdown",
   "id": "def54897",
   "metadata": {},
   "source": [
    "___\n",
    "# Task 2"
   ]
  },
  {
   "cell_type": "markdown",
   "id": "fc9974d9",
   "metadata": {},
   "source": [
    "In order to explore the dataset, we must firstly be able to read it. \n",
    "\n",
    "PySpark is the Python API for Apache Spark. In order to install it, uncomment the following first line of the code, or if it does not work, uncomment the third and fourth line of the code.\n",
    "\n",
    "From the `pyspark.sql` module, we imported `SparkSession`, which is the entry point to programming Spark with the Dataset and DataFrame API. We then use the Builder to construct a SparkSession instance, having as a name \"task2\".\n",
    "\n",
    "Spark SQL can load a JSON file as a DataFrame using `SparkSession.read.json()` function. We then set multiline option to true to read JSON records from multiple lines of the JSON file provided into a Spark DataFrame named \"movies\". We then used `cache()` method that Spark provides, which is an optimization mechanism to store the intermediate computation of a Spark DataFrame to memory as a deserialized object (or if required storage is greater than available memory, it stores some of the excess partitions into a disk and reads the data from the disk when required), so it can be reused in subsequent actions."
   ]
  },
  {
   "cell_type": "code",
   "execution_count": 1,
   "id": "840222d3",
   "metadata": {},
   "outputs": [],
   "source": [
    "# pip install pyspark\n",
    "# or if it produces error then run the following 2 lines:\n",
    "# import sys\n",
    "# !{sys.executable} -m pip install pyspark\n",
    "\n",
    "from pyspark.sql import SparkSession\n",
    "\n",
    "spark = SparkSession.builder.appName(\"task2\").getOrCreate()\n",
    "\n",
    "file = \"movie.json\" \n",
    "movies = spark.read.option(\"multiline\",\"true\").json(file).cache()"
   ]
  },
  {
   "cell_type": "markdown",
   "id": "34fff31e",
   "metadata": {},
   "source": [
    "Firstly, we created a new column named \"title_upper\" from the \"title\" column in upper case. This was done because some movies may have lower case characters in the first character of their title and in that way we could find all movies that have the specified character in their title either it is in upper case format or not. We then casted the \"users_rating\" and \"votes\" columns into float and integer data types respectively. We used then the `printSchema()` function to observe that everything worked well and then used the `toPandas()` function, which as the name suggests, returns the contents of this DataFrame as Pandas `pandas.DataFrame`, in order to view it in a more pretty way than it is printed with the `show()` function.\n",
    "\n",
    "In all cells below we include in commented lines the equivalent way of executing SQL over created table (\"Movies\") in PySpark, instead of using Dataframes. However, because PySpark and Dataframes was required by the description of the task, we left it commented."
   ]
  },
  {
   "cell_type": "code",
   "execution_count": 2,
   "id": "10bace44",
   "metadata": {},
   "outputs": [
    {
     "name": "stdout",
     "output_type": "stream",
     "text": [
      "root\n",
      " |-- actors: array (nullable = true)\n",
      " |    |-- element: string (containsNull = true)\n",
      " |-- countries: array (nullable = true)\n",
      " |    |-- element: string (containsNull = true)\n",
      " |-- description: string (nullable = true)\n",
      " |-- directors: array (nullable = true)\n",
      " |    |-- element: string (containsNull = true)\n",
      " |-- genre: array (nullable = true)\n",
      " |    |-- element: string (containsNull = true)\n",
      " |-- imdb_url: string (nullable = true)\n",
      " |-- img_url: string (nullable = true)\n",
      " |-- languages: array (nullable = true)\n",
      " |    |-- element: string (containsNull = true)\n",
      " |-- metascore: string (nullable = true)\n",
      " |-- rating: string (nullable = true)\n",
      " |-- runtime: string (nullable = true)\n",
      " |-- tagline: string (nullable = true)\n",
      " |-- title: string (nullable = true)\n",
      " |-- users_rating: float (nullable = true)\n",
      " |-- votes: integer (nullable = true)\n",
      " |-- year: string (nullable = true)\n",
      " |-- title_upper: string (nullable = true)\n",
      "\n"
     ]
    },
    {
     "data": {
      "text/html": [
       "<div>\n",
       "<style scoped>\n",
       "    .dataframe tbody tr th:only-of-type {\n",
       "        vertical-align: middle;\n",
       "    }\n",
       "\n",
       "    .dataframe tbody tr th {\n",
       "        vertical-align: top;\n",
       "    }\n",
       "\n",
       "    .dataframe thead th {\n",
       "        text-align: right;\n",
       "    }\n",
       "</style>\n",
       "<table border=\"1\" class=\"dataframe\">\n",
       "  <thead>\n",
       "    <tr style=\"text-align: right;\">\n",
       "      <th></th>\n",
       "      <th>actors</th>\n",
       "      <th>countries</th>\n",
       "      <th>description</th>\n",
       "      <th>directors</th>\n",
       "      <th>genre</th>\n",
       "      <th>imdb_url</th>\n",
       "      <th>img_url</th>\n",
       "      <th>languages</th>\n",
       "      <th>metascore</th>\n",
       "      <th>rating</th>\n",
       "      <th>runtime</th>\n",
       "      <th>tagline</th>\n",
       "      <th>title</th>\n",
       "      <th>users_rating</th>\n",
       "      <th>votes</th>\n",
       "      <th>year</th>\n",
       "      <th>title_upper</th>\n",
       "    </tr>\n",
       "  </thead>\n",
       "  <tbody>\n",
       "    <tr>\n",
       "      <th>0</th>\n",
       "      <td>[Timothée Chalamet, Elle Fanning, Liev Schreib...</td>\n",
       "      <td>[USA]</td>\n",
       "      <td>A young couple arrives in New York for a weeke...</td>\n",
       "      <td>[Woody Allen]</td>\n",
       "      <td>[Comedy, Romance]</td>\n",
       "      <td>https://www.imdb.com/title/tt7139936/</td>\n",
       "      <td>https://m.media-amazon.com/images/M/MV5BODAwZD...</td>\n",
       "      <td>[English]</td>\n",
       "      <td>44</td>\n",
       "      <td>PG-13</td>\n",
       "      <td>92 min</td>\n",
       "      <td>None</td>\n",
       "      <td>A Rainy Day in New York</td>\n",
       "      <td>6.6</td>\n",
       "      <td>NaN</td>\n",
       "      <td>2019</td>\n",
       "      <td>A RAINY DAY IN NEW YORK</td>\n",
       "    </tr>\n",
       "    <tr>\n",
       "      <th>1</th>\n",
       "      <td>[Emilia Clarke, Hadley Fraser, Sylvia Panacion...</td>\n",
       "      <td>[USA]</td>\n",
       "      <td>Creepy, terrifying chapters from our book of h...</td>\n",
       "      <td>[Michael Escobedo, Kelly Hallmark, 4 more cred...</td>\n",
       "      <td>[Horror, Thriller]</td>\n",
       "      <td>https://www.imdb.com/title/tt12384178/</td>\n",
       "      <td>https://m.media-amazon.com/images/M/MV5BMDI5ZD...</td>\n",
       "      <td>[English]</td>\n",
       "      <td>None</td>\n",
       "      <td>18</td>\n",
       "      <td>91 min</td>\n",
       "      <td>When it comes to murder, they wrote the book</td>\n",
       "      <td>Murder Manual</td>\n",
       "      <td>2.4</td>\n",
       "      <td>192.0</td>\n",
       "      <td>2020</td>\n",
       "      <td>MURDER MANUAL</td>\n",
       "    </tr>\n",
       "    <tr>\n",
       "      <th>2</th>\n",
       "      <td>[Matthew Broderick, Alan Ruck, Mia Sara, Jeffr...</td>\n",
       "      <td>[USA]</td>\n",
       "      <td>A high school wise guy is determined to have a...</td>\n",
       "      <td>[John Hughes]</td>\n",
       "      <td>[Comedy]</td>\n",
       "      <td>https://www.imdb.com/title/tt0091042/</td>\n",
       "      <td>https://m.media-amazon.com/images/M/MV5BMDA0Nj...</td>\n",
       "      <td>[English, German]</td>\n",
       "      <td>61</td>\n",
       "      <td>PG-13</td>\n",
       "      <td>103 min</td>\n",
       "      <td>Because life is too beautiful a thing to waste.</td>\n",
       "      <td>Ferris Bueller's Day Off</td>\n",
       "      <td>7.8</td>\n",
       "      <td>NaN</td>\n",
       "      <td>1986</td>\n",
       "      <td>FERRIS BUELLER'S DAY OFF</td>\n",
       "    </tr>\n",
       "    <tr>\n",
       "      <th>3</th>\n",
       "      <td>[Robert De Niro, Nick Nolte, Jessica Lange, Ju...</td>\n",
       "      <td>[USA]</td>\n",
       "      <td>A convicted rapist, released from prison after...</td>\n",
       "      <td>[Martin Scorsese]</td>\n",
       "      <td>[Crime, Thriller]</td>\n",
       "      <td>https://www.imdb.com/title/tt0101540/</td>\n",
       "      <td>https://m.media-amazon.com/images/M/MV5BNjdhNz...</td>\n",
       "      <td>[English]</td>\n",
       "      <td>73</td>\n",
       "      <td>R</td>\n",
       "      <td>128 min</td>\n",
       "      <td>There is nothing in the dark that isn't there ...</td>\n",
       "      <td>Cape Fear</td>\n",
       "      <td>7.3</td>\n",
       "      <td>NaN</td>\n",
       "      <td>1991</td>\n",
       "      <td>CAPE FEAR</td>\n",
       "    </tr>\n",
       "    <tr>\n",
       "      <th>4</th>\n",
       "      <td>[Lindsay Lohan, Rachel McAdams, Tina Fey, Tim ...</td>\n",
       "      <td>[USA, Canada]</td>\n",
       "      <td>Cady Heron is a hit with The Plastics, the A-l...</td>\n",
       "      <td>[Mark Waters]</td>\n",
       "      <td>[Comedy]</td>\n",
       "      <td>https://www.imdb.com/title/tt0377092/</td>\n",
       "      <td>https://m.media-amazon.com/images/M/MV5BMjE1MD...</td>\n",
       "      <td>[English, German, Vietnamese, Swahili]</td>\n",
       "      <td>66</td>\n",
       "      <td>PG-13</td>\n",
       "      <td>97 min</td>\n",
       "      <td>Survival of the Ruthless</td>\n",
       "      <td>Mean Girls</td>\n",
       "      <td>7.0</td>\n",
       "      <td>NaN</td>\n",
       "      <td>2004</td>\n",
       "      <td>MEAN GIRLS</td>\n",
       "    </tr>\n",
       "  </tbody>\n",
       "</table>\n",
       "</div>"
      ],
      "text/plain": [
       "                                              actors      countries  \\\n",
       "0  [Timothée Chalamet, Elle Fanning, Liev Schreib...          [USA]   \n",
       "1  [Emilia Clarke, Hadley Fraser, Sylvia Panacion...          [USA]   \n",
       "2  [Matthew Broderick, Alan Ruck, Mia Sara, Jeffr...          [USA]   \n",
       "3  [Robert De Niro, Nick Nolte, Jessica Lange, Ju...          [USA]   \n",
       "4  [Lindsay Lohan, Rachel McAdams, Tina Fey, Tim ...  [USA, Canada]   \n",
       "\n",
       "                                         description  \\\n",
       "0  A young couple arrives in New York for a weeke...   \n",
       "1  Creepy, terrifying chapters from our book of h...   \n",
       "2  A high school wise guy is determined to have a...   \n",
       "3  A convicted rapist, released from prison after...   \n",
       "4  Cady Heron is a hit with The Plastics, the A-l...   \n",
       "\n",
       "                                           directors               genre  \\\n",
       "0                                      [Woody Allen]   [Comedy, Romance]   \n",
       "1  [Michael Escobedo, Kelly Hallmark, 4 more cred...  [Horror, Thriller]   \n",
       "2                                      [John Hughes]            [Comedy]   \n",
       "3                                  [Martin Scorsese]   [Crime, Thriller]   \n",
       "4                                      [Mark Waters]            [Comedy]   \n",
       "\n",
       "                                 imdb_url  \\\n",
       "0   https://www.imdb.com/title/tt7139936/   \n",
       "1  https://www.imdb.com/title/tt12384178/   \n",
       "2   https://www.imdb.com/title/tt0091042/   \n",
       "3   https://www.imdb.com/title/tt0101540/   \n",
       "4   https://www.imdb.com/title/tt0377092/   \n",
       "\n",
       "                                             img_url  \\\n",
       "0  https://m.media-amazon.com/images/M/MV5BODAwZD...   \n",
       "1  https://m.media-amazon.com/images/M/MV5BMDI5ZD...   \n",
       "2  https://m.media-amazon.com/images/M/MV5BMDA0Nj...   \n",
       "3  https://m.media-amazon.com/images/M/MV5BNjdhNz...   \n",
       "4  https://m.media-amazon.com/images/M/MV5BMjE1MD...   \n",
       "\n",
       "                                languages metascore rating  runtime  \\\n",
       "0                               [English]        44  PG-13   92 min   \n",
       "1                               [English]      None     18   91 min   \n",
       "2                       [English, German]        61  PG-13  103 min   \n",
       "3                               [English]        73      R  128 min   \n",
       "4  [English, German, Vietnamese, Swahili]        66  PG-13   97 min   \n",
       "\n",
       "                                             tagline  \\\n",
       "0                                               None   \n",
       "1       When it comes to murder, they wrote the book   \n",
       "2    Because life is too beautiful a thing to waste.   \n",
       "3  There is nothing in the dark that isn't there ...   \n",
       "4                           Survival of the Ruthless   \n",
       "\n",
       "                      title  users_rating  votes  year  \\\n",
       "0   A Rainy Day in New York           6.6    NaN  2019   \n",
       "1             Murder Manual           2.4  192.0  2020   \n",
       "2  Ferris Bueller's Day Off           7.8    NaN  1986   \n",
       "3                 Cape Fear           7.3    NaN  1991   \n",
       "4                Mean Girls           7.0    NaN  2004   \n",
       "\n",
       "                title_upper  \n",
       "0   A RAINY DAY IN NEW YORK  \n",
       "1             MURDER MANUAL  \n",
       "2  FERRIS BUELLER'S DAY OFF  \n",
       "3                 CAPE FEAR  \n",
       "4                MEAN GIRLS  "
      ]
     },
     "execution_count": 2,
     "metadata": {},
     "output_type": "execute_result"
    }
   ],
   "source": [
    "from pyspark.sql.functions import upper, col\n",
    "\n",
    "movies = movies.withColumn(\"title_upper\",upper(col(\"title\")))\n",
    "movies = movies.withColumn(\"users_rating\", col(\"users_rating\").cast('float'))\n",
    "movies = movies.withColumn(\"votes\", col(\"votes\").cast('integer'))\n",
    "\n",
    "# for using SQL:\n",
    "# movies.createOrReplaceTempView(\"Movies\")\n",
    "\n",
    "movies.printSchema()\n",
    "movies.toPandas().head()"
   ]
  },
  {
   "cell_type": "markdown",
   "id": "56bc3428",
   "metadata": {},
   "source": [
    "The first letter of my last name is \"S\" (from **S**OUFLAS). In order to return the “title” and “year” of the movie with the largest “users_rating” that its title starts with the forementioned letter, firstly we filtered all rows using as condition the column \"title_upper\" to have \"S\" as its first letter (`substring()` function) and saved the result to a separate DataFrame (\"s_Title\"). From this DataFrame, we then filtered its rows again to contain only those movies that got the biggest value in \"users_rating\" and from those, we printed their \"title\" and \"year\"."
   ]
  },
  {
   "cell_type": "code",
   "execution_count": 3,
   "id": "5514d9ed",
   "metadata": {
    "scrolled": false
   },
   "outputs": [
    {
     "name": "stdout",
     "output_type": "stream",
     "text": [
      "+-------------------+----+\n",
      "|              title|year|\n",
      "+-------------------+----+\n",
      "|Shades of Alex Gray|2008|\n",
      "|Shrek for President|2016|\n",
      "+-------------------+----+\n",
      "\n"
     ]
    }
   ],
   "source": [
    "from pyspark.sql.functions import substring, max\n",
    "\n",
    "s_Title = movies.filter(substring(\"title_upper\",1,1)==\"S\")\n",
    "s_Title.filter(s_Title.users_rating == s_Title.select(max(\"users_rating\")).collect()[0][0]).select(\"title\",\"year\").show()\n",
    "\n",
    "# or simpler using SQL:\n",
    "# spark.sql(\"SELECT title, year FROM Movies WHERE UPPER(title) LIKE 'S%' AND users_rating = (SELECT MAX(users_rating) FROM \"\\\n",
    "# \"Movies WHERE UPPER(title) LIKE 'S%')\").show()"
   ]
  },
  {
   "cell_type": "markdown",
   "id": "54f16036",
   "metadata": {},
   "source": [
    "In order to return the average \"users_rating\" of the movies that their title starts with the second letter of my last name, which is \"O\" (from S**O**UFLAS), we firstly filtered all rows using as condition the column \"title_upper\" to have \"O\" as its first letter (`substring()` function) and saved the result to a separate DataFrame (\"o_Title\"). From this DataFrame, we then calculated the average \"users_rating\", rounded that number to contain only 2 digits and returned the calculated column aliased with a new name (\"Avg_Users_Rating\")."
   ]
  },
  {
   "cell_type": "code",
   "execution_count": 4,
   "id": "1d51d612",
   "metadata": {},
   "outputs": [
    {
     "name": "stdout",
     "output_type": "stream",
     "text": [
      "+----------------+\n",
      "|Avg_Users_Rating|\n",
      "+----------------+\n",
      "|            5.97|\n",
      "+----------------+\n",
      "\n"
     ]
    }
   ],
   "source": [
    "from pyspark.sql.functions import avg, round\n",
    "\n",
    "o_Title = movies.filter(substring(\"title_upper\",1,1)==\"O\")\n",
    "o_Title.select(round(avg(\"users_rating\"),2).alias(\"Avg_Users_Rating\")).show()\n",
    "\n",
    "# or simpler using SQL:\n",
    "# spark.sql(\"SELECT ROUND(AVG(users_rating),2) AS Avg_Users_Rating FROM Movies WHERE SUBSTR(UPPER(title), 1, 1) = 'O'\").show()"
   ]
  },
  {
   "cell_type": "markdown",
   "id": "181813f3",
   "metadata": {},
   "source": [
    "The third letter of my last name is \"U\" (from SO**U**FLAS). In order to return the \"title\" and \"year\" of the movie with the most votes, when only movies with title starting with the forementioned letter are considered, firstly we filtered all rows using as condition the column \"title_upper\" to have \"U\" as its first letter (`substring()` function) and saved the result to a separate DataFrame (\"u_Title\"). From this DataFrame, we then filtered its rows again to contain only those movies that contained the biggest value in \"votes\" column (i.e., had the most votes) and from those, we printed their \"title\" and \"year\", using the `show()` function with the \"truncate\" parameter set to false, in order not to truncate strings longer than 20 chars."
   ]
  },
  {
   "cell_type": "code",
   "execution_count": 5,
   "id": "2fb87abf",
   "metadata": {},
   "outputs": [
    {
     "name": "stdout",
     "output_type": "stream",
     "text": [
      "+---------------------------+----+\n",
      "|title                      |year|\n",
      "+---------------------------+----+\n",
      "|Unidentified Flying Oddball|1979|\n",
      "+---------------------------+----+\n",
      "\n"
     ]
    }
   ],
   "source": [
    "u_Title = movies.filter(substring(\"title_upper\",1,1)==\"U\")\n",
    "u_Title.filter(u_Title.votes==u_Title.select(max(\"votes\")).collect()[0][0]).select(\"title\",\"year\").show(truncate = False)\n",
    "\n",
    "# or simpler using SQL:\n",
    "# spark.sql(\"SELECT title, year FROM Movies WHERE SUBSTR(UPPER(title), 1, 1) = 'U' AND votes = (SELECT MAX(votes) FROM \"\\\n",
    "# \"Movies WHERE SUBSTR(UPPER(title), 1, 1) = 'U')\").show(truncate = False)"
   ]
  },
  {
   "cell_type": "markdown",
   "id": "c4c8fb9f",
   "metadata": {},
   "source": [
    "Finally, we stopped the underlying Spark Session."
   ]
  },
  {
   "cell_type": "code",
   "execution_count": 6,
   "id": "f0203adc",
   "metadata": {},
   "outputs": [],
   "source": [
    "spark.stop()"
   ]
  }
 ],
 "metadata": {
  "kernelspec": {
   "display_name": "Python 3 (ipykernel)",
   "language": "python",
   "name": "python3"
  },
  "language_info": {
   "codemirror_mode": {
    "name": "ipython",
    "version": 3
   },
   "file_extension": ".py",
   "mimetype": "text/x-python",
   "name": "python",
   "nbconvert_exporter": "python",
   "pygments_lexer": "ipython3",
   "version": "3.9.13"
  }
 },
 "nbformat": 4,
 "nbformat_minor": 5
}
